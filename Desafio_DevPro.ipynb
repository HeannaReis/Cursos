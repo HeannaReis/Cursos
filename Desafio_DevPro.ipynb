{
  "nbformat": 4,
  "nbformat_minor": 0,
  "metadata": {
    "colab": {
      "name": "Desafio DevPro.ipynb",
      "provenance": [],
      "authorship_tag": "ABX9TyPsdqCRWWbnlHOQ9UVZojUP",
      "include_colab_link": true
    },
    "kernelspec": {
      "name": "python3",
      "display_name": "Python 3"
    },
    "language_info": {
      "name": "python"
    }
  },
  "cells": [
    {
      "cell_type": "markdown",
      "metadata": {
        "id": "view-in-github",
        "colab_type": "text"
      },
      "source": [
        "<a href=\"https://colab.research.google.com/github/HeannaReis/Cursos/blob/master/Desafio_DevPro.ipynb\" target=\"_parent\"><img src=\"https://colab.research.google.com/assets/colab-badge.svg\" alt=\"Open In Colab\"/></a>"
      ]
    },
    {
      "cell_type": "markdown",
      "metadata": {
        "id": "GNp2aw1qwnqN"
      },
      "source": [
        "# Desafio DevPro"
      ]
    },
    {
      "cell_type": "markdown",
      "metadata": {
        "id": "zkZrfsFhwxyZ"
      },
      "source": [
        "Nesse Notebook vamos resolver vários exercícios da [Lista Phyton Brasil ](https://wiki.python.org.br/ListaDeExercicios)\n",
        "\n"
      ]
    },
    {
      "cell_type": "markdown",
      "metadata": {
        "id": "vQTAHyRWwUn0"
      },
      "source": [
        "# [Estrutura Sequencial](https://wiki.python.org.br/EstruturaSequencial)"
      ]
    },
    {
      "cell_type": "code",
      "metadata": {
        "colab": {
          "base_uri": "https://localhost:8080/"
        },
        "id": "PGM6bofIyJt6",
        "outputId": "1f4eb8a7-af92-455a-bf1e-174dd22cf5a1"
      },
      "source": [
        "print ('Olá Mundo!!!')"
      ],
      "execution_count": null,
      "outputs": [
        {
          "output_type": "stream",
          "text": [
            "Olá Mundo!!!\n"
          ],
          "name": "stdout"
        }
      ]
    },
    {
      "cell_type": "code",
      "metadata": {
        "colab": {
          "base_uri": "https://localhost:8080/"
        },
        "id": "I8Q-6OYGyeq_",
        "outputId": "23afdf4a-c6a6-4b56-92dd-8cab0581309e"
      },
      "source": [
        "type ('Olá Mundo!!!')"
      ],
      "execution_count": null,
      "outputs": [
        {
          "output_type": "execute_result",
          "data": {
            "text/plain": [
              "str"
            ]
          },
          "metadata": {
            "tags": []
          },
          "execution_count": 8
        }
      ]
    },
    {
      "cell_type": "markdown",
      "metadata": {
        "id": "dyjl0Vejy0pb"
      },
      "source": [
        "**Exercício 2**"
      ]
    },
    {
      "cell_type": "code",
      "metadata": {
        "colab": {
          "base_uri": "https://localhost:8080/"
        },
        "id": "ELV6ZmESzCgn",
        "outputId": "e163055a-fce8-4c73-995c-420dc255c24d"
      },
      "source": [
        "numero = input ('Digite um número:')\n",
        "print (f'O número informado foi {numero} ')"
      ],
      "execution_count": null,
      "outputs": [
        {
          "output_type": "stream",
          "text": [
            "Digite um número:12\n",
            "O número informado foi 12 \n"
          ],
          "name": "stdout"
        }
      ]
    },
    {
      "cell_type": "markdown",
      "metadata": {
        "id": "Epb1EBFe1DPX"
      },
      "source": [
        "**Exercício 3**"
      ]
    },
    {
      "cell_type": "code",
      "metadata": {
        "colab": {
          "base_uri": "https://localhost:8080/"
        },
        "id": "4qgN48xX1H3L",
        "outputId": "555ddbb8-a0b9-438d-a8c9-6a3aee7bbd28"
      },
      "source": [
        "#Faça um Programa que peça dois números e imprima a soma.\n",
        "numero_1 = int (input ('Digite um numero: '))\n",
        "numero_2 = int (input ('Digite outro numero: '))\n",
        "SOMA = numero_1 + numero_2\n",
        "print (f'A soma dos dois numeros é: {SOMA}')"
      ],
      "execution_count": null,
      "outputs": [
        {
          "output_type": "stream",
          "text": [
            "Digite um numero: 34\n",
            "Digite outro numero: 15\n",
            "A soma dos dois numeros é: 49\n"
          ],
          "name": "stdout"
        }
      ]
    },
    {
      "cell_type": "code",
      "metadata": {
        "colab": {
          "base_uri": "https://localhost:8080/"
        },
        "id": "jzFfrDp6aUZU",
        "outputId": "6299c08b-b175-4d58-866a-9846e29e0133"
      },
      "source": [
        "#Faça m Programa que peça as 4 notas bimestrais e mostre a média\n",
        "#Se Media Igual a 10 mostrar na saída, \"Aprovado com Distinção!!!\"\n",
        "#Se Media for maior do que 7 mostrar na saída \"Aprovado!!!\"\n",
        "#Se Media for menor que 7 mostrar na saída \"Reprovado!!!\n",
        "nota_1= int (input ('Digita a Nota 1: '))\n",
        "nota_2= int (input ('Digita a Nota 2: '))\n",
        "nota_3= int (input ('Digita a Nota 3: '))\n",
        "nota_4= int (input ('Digita a Nota 4: '))\n",
        "media = (nota_1+nota_2+nota_3+nota_4)/4\n",
        "print (f'A Media do Aluno é: {media} ')\n",
        "\n",
        "\n",
        "if media == 10:\n",
        "  print (f'Aprovado com Distinção!!!')\n",
        "elif media < 7:\n",
        "  print (f'Reprovado!!!')\n",
        "elif media >= 7:\n",
        "  print (f' Aprovado!!!')\n",
        "  \n",
        "\n",
        "\n"
      ],
      "execution_count": null,
      "outputs": [
        {
          "output_type": "stream",
          "text": [
            "Digita a Nota 1: 6\n",
            "Digita a Nota 2: 6\n",
            "Digita a Nota 3: 6\n",
            "Digita a Nota 4: 6\n",
            "A Media do Aluno é: 6.0 \n",
            "Reprovado!!!\n"
          ],
          "name": "stdout"
        }
      ]
    },
    {
      "cell_type": "markdown",
      "metadata": {
        "id": "_hpcycNU4euK"
      },
      "source": [
        "**Lição de Casa: Exercício 17**"
      ]
    },
    {
      "cell_type": "code",
      "metadata": {
        "colab": {
          "base_uri": "https://localhost:8080/"
        },
        "id": "uFPryw1E4kf7",
        "outputId": "cbb844e0-7c2f-440a-9afd-014b2c1a7a97"
      },
      "source": [
        "import math\n",
        "\n",
        "area_a_ser_pintada = int (input('Digite a area a ser pintada em metros quadrados: ')) # area em metros quadrados\n",
        "area_com_folga = area_a_ser_pintada * 1.1\n",
        "litros_por_metro = 6\n",
        "litros_a_serem_usados = area_com_folga / litros_por_metro\n",
        "litros_por_lata = 18\n",
        "numero_de_latas = math.ceil (litros_a_serem_usados / litros_por_lata)\n",
        "valor_com_apenas_latas = numero_de_latas * 80\n",
        "print (f'você deverá usar {numero_de_latas} latas de 18 litros, no valor de R$ {valor_com_apenas_latas}')\n",
        "\n",
        "litros_por_galao = 3.6\n",
        "numero_de_galoes = math.ceil (litros_a_serem_usados / litros_por_galao)\n",
        "valor_com_apenas_galoes = numero_de_galoes * 25\n",
        "print (f'você deverá usar {numero_de_galoes} galoes de 3.6 litros, no valor de R$ {valor_com_apenas_galoes}')\n",
        "\n",
        "\n",
        "# compra de Tinta otimiza por valor\n",
        "numero_de_latas = math.floor (litros_a_serem_usados / litros_por_lata)\n",
        "valor_de_latas = numero_de_latas * 80\n",
        "litros_faltantes = litros_a_serem_usados % litros_por_lata\n",
        "numero_de_galoes = math.ceil (litros_faltantes / litros_por_galao)\n",
        "valor_com_galoes = numero_de_galoes * 25\n",
        " \n",
        "valor_total = valor_de_latas + valor_com_galoes\n",
        "\n",
        "\n",
        "if numero_de_latas != 0:\n",
        "  print (f'Voce deverá usar {numero_de_latas} latas de 18 litros, mais {numero_de_galoes} galoes de 3.6 litros, no valor de R$ {valor_total}')\n",
        "   \n",
        "else:\n",
        "  print (f'Utilize apenas {numero_de_galoes} galoes de 3.6 litros, no valor de R$ {valor_total}')"
      ],
      "execution_count": null,
      "outputs": [
        {
          "output_type": "stream",
          "text": [
            "Digite a area a ser pintada em metros quadrados: 300\n",
            "você deverá usar 4 latas de 18 litros, no valor de R$ 320\n",
            "você deverá usar 16 galoes de 3.6 litros, no valor de R$ 400\n",
            "Voce deverá usar 3 latas de 18 litros, mais 1 galoes de 3.6 litros, no valor de R$ 265\n"
          ],
          "name": "stdout"
        }
      ]
    },
    {
      "cell_type": "markdown",
      "metadata": {
        "id": "LhaPRRthcnAN"
      },
      "source": [
        ""
      ]
    },
    {
      "cell_type": "markdown",
      "metadata": {
        "id": "33E_G6U0LRO3"
      },
      "source": [
        ""
      ]
    }
  ]
}